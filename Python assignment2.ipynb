{
 "cells": [
  {
   "cell_type": "code",
   "execution_count": 3,
   "id": "7462af4e",
   "metadata": {},
   "outputs": [
    {
     "name": "stdout",
     "output_type": "stream",
     "text": [
      "Enter in KM30\n",
      "30.0 km = 18.64113576 miles\n"
     ]
    }
   ],
   "source": [
    "#1\n",
    "\n",
    "km = float(input(\"Enter in KM\"))\n",
    "\n",
    "miles = km * 0.621371192\n",
    "\n",
    "print(f\"{km} km = {miles} miles\")"
   ]
  },
  {
   "cell_type": "code",
   "execution_count": 6,
   "id": "b6ea71a7",
   "metadata": {},
   "outputs": [
    {
     "name": "stdout",
     "output_type": "stream",
     "text": [
      "Enter the temperature in Celcius 45\n",
      "45.0 degree C = 113.0 degree F\n"
     ]
    }
   ],
   "source": [
    "#2\n",
    "\n",
    "c = float(input(\"Enter the temperature in Celcius \"))\n",
    "f = (c * 1.8) + 32\n",
    "\n",
    "print(f\"{c} degree C = {f} degree F\")\n"
   ]
  },
  {
   "cell_type": "code",
   "execution_count": 11,
   "id": "7ca0f339",
   "metadata": {},
   "outputs": [
    {
     "name": "stdout",
     "output_type": "stream",
     "text": [
      "Enter the year 2002\n",
      "Enter the month 11\n",
      "   November 2002\n",
      "Mo Tu We Th Fr Sa Su\n",
      "             1  2  3\n",
      " 4  5  6  7  8  9 10\n",
      "11 12 13 14 15 16 17\n",
      "18 19 20 21 22 23 24\n",
      "25 26 27 28 29 30\n",
      "\n"
     ]
    }
   ],
   "source": [
    "#3\n",
    "\n",
    "import calendar\n",
    "\n",
    "\n",
    "yy = int(input(\"Enter the year \"))\n",
    "mm = int(input(\"Enter the month \"))\n",
    "\n",
    "\n",
    "print(calendar.month(yy,mm))\n"
   ]
  },
  {
   "cell_type": "code",
   "execution_count": 22,
   "id": "bf95be72",
   "metadata": {},
   "outputs": [
    {
     "name": "stdout",
     "output_type": "stream",
     "text": [
      "put the alue of a3\n",
      "put the alue of b7\n",
      "put the alue of c8\n",
      "the solutions are (-10.5+10.283481900601565j) and (-10.5-10.283481900601565j)\n"
     ]
    }
   ],
   "source": [
    "#4\n",
    "\n",
    "import cmath\n",
    "\n",
    "a = int(input(\"put the alue of a\"))\n",
    "b = int(input(\"put the alue of b\"))\n",
    "c = int(input(\"put the alue of c\"))\n",
    "\n",
    "d = (b**2 - 4*a*c)\n",
    "\n",
    "s1 = (-b+cmath.sqrt(d))/2*a\n",
    "s2 = (-b-cmath.sqrt(d))/2*a\n",
    "\n",
    "print(f\"the solutions are {s1} and {s2}\")"
   ]
  },
  {
   "cell_type": "code",
   "execution_count": 17,
   "id": "de89716e",
   "metadata": {},
   "outputs": [
    {
     "name": "stdout",
     "output_type": "stream",
     "text": [
      "Before swapping: \n",
      "Value of x :  5  and y :  6\n",
      "After swapping: \n",
      "Value of x :  6  and y :  5\n"
     ]
    }
   ],
   "source": [
    "#5\n",
    "\n",
    "x = 5\n",
    "y = 6\n",
    "\n",
    "print (\"Before swapping: \")\n",
    "print(\"Value of x : \", x, \" and y : \", y)\n",
    " \n",
    "x, y = y, x\n",
    " \n",
    "print (\"After swapping: \")\n",
    "print(\"Value of x : \", x, \" and y : \", y)"
   ]
  },
  {
   "cell_type": "code",
   "execution_count": null,
   "id": "8de27eb9",
   "metadata": {},
   "outputs": [],
   "source": []
  }
 ],
 "metadata": {
  "kernelspec": {
   "display_name": "Python 3 (ipykernel)",
   "language": "python",
   "name": "python3"
  },
  "language_info": {
   "codemirror_mode": {
    "name": "ipython",
    "version": 3
   },
   "file_extension": ".py",
   "mimetype": "text/x-python",
   "name": "python",
   "nbconvert_exporter": "python",
   "pygments_lexer": "ipython3",
   "version": "3.9.7"
  }
 },
 "nbformat": 4,
 "nbformat_minor": 5
}
