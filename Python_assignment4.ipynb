{
 "cells": [
  {
   "cell_type": "markdown",
   "id": "32c2b037",
   "metadata": {},
   "source": [
    "# 1 - factorial of a number "
   ]
  },
  {
   "cell_type": "code",
   "execution_count": 5,
   "id": "7b3527c2",
   "metadata": {},
   "outputs": [
    {
     "name": "stdout",
     "output_type": "stream",
     "text": [
      "number: 4\n",
      "facotrial of 4 : 24\n"
     ]
    }
   ],
   "source": [
    "num = int(input(\"number: \"))\n",
    "\n",
    "def factorial(x):\n",
    "    if x==1:\n",
    "        return 1\n",
    "\n",
    "    return (x*factorial(x-1))\n",
    "\n",
    "print(f\"facotrial of {num} : {factorial(num)}\")\n",
    "\n",
    "\n",
    "\n",
    "          \n",
    "\n",
    "                \n",
    "                "
   ]
  },
  {
   "cell_type": "markdown",
   "id": "4db0e6d6",
   "metadata": {},
   "source": [
    "# 2- Display multiplication table "
   ]
  },
  {
   "cell_type": "code",
   "execution_count": 8,
   "id": "dac1775d",
   "metadata": {},
   "outputs": [
    {
     "name": "stdout",
     "output_type": "stream",
     "text": [
      "number: 5\n",
      "5 x 1 = 5\n",
      "5 x 2 = 10\n",
      "5 x 3 = 15\n",
      "5 x 4 = 20\n",
      "5 x 5 = 25\n",
      "5 x 6 = 30\n",
      "5 x 7 = 35\n",
      "5 x 8 = 40\n",
      "5 x 9 = 45\n",
      "5 x 10 = 50\n"
     ]
    }
   ],
   "source": [
    "num = int(input(\"number: \"))\n",
    "\n",
    "for i in range(1,11):\n",
    "    x = num*i\n",
    "    print(f'{num} x {i} = {x}')\n",
    "    "
   ]
  },
  {
   "cell_type": "markdown",
   "id": "7574ae5c",
   "metadata": {},
   "source": [
    "# 3 - Print the fibonacci sequence "
   ]
  },
  {
   "cell_type": "code",
   "execution_count": 11,
   "id": "24a9f5ad",
   "metadata": {},
   "outputs": [
    {
     "name": "stdout",
     "output_type": "stream",
     "text": [
      "How many terms ? 9\n",
      "Fibonacci sequence upto 9 :\n",
      "0\n",
      "1\n",
      "1\n",
      "2\n",
      "3\n",
      "5\n",
      "8\n",
      "13\n",
      "21\n"
     ]
    }
   ],
   "source": [
    "n = int(input(\"How many terms ? \"))\n",
    "\n",
    "n1 = 0\n",
    "n2 = 1\n",
    "count = 0\n",
    "\n",
    "if n == 0:\n",
    "    print(\"Please enter a positive integer number\")\n",
    "else:\n",
    "    print(f\"Fibonacci sequence upto {n} :\")\n",
    "    while count<n:\n",
    "        print(n1)\n",
    "        \n",
    "        n3 =n1+n2\n",
    "        \n",
    "        n1=n2\n",
    "        n2=n3\n",
    "        \n",
    "        count +=1"
   ]
  },
  {
   "cell_type": "markdown",
   "id": "f56bc685",
   "metadata": {},
   "source": [
    "# 4 - Check Armstrong Number"
   ]
  },
  {
   "cell_type": "code",
   "execution_count": 33,
   "id": "13cc46e6",
   "metadata": {},
   "outputs": [
    {
     "name": "stdout",
     "output_type": "stream",
     "text": [
      "Enter a number : 153\n",
      "153 is an Armstrong number\n"
     ]
    }
   ],
   "source": [
    "num = int(input('Enter a number : '))\n",
    "Sum = 0\n",
    "length = len(str(num))\n",
    "\n",
    "temp = num\n",
    "\n",
    "while temp>0:\n",
    "    last = temp%10 \n",
    "    Sum += last**length\n",
    "    temp//=10\n",
    "    \n",
    "if num == Sum:\n",
    "    print(num,\"is an Armstrong number\")\n",
    "else:\n",
    "    print(num,\"is not an Armstrong number\")\n",
    "\n"
   ]
  },
  {
   "cell_type": "markdown",
   "id": "c57b52b2",
   "metadata": {},
   "source": [
    "# 5 - Armstrong Number in an Interval"
   ]
  },
  {
   "cell_type": "code",
   "execution_count": 43,
   "id": "22d19b7f",
   "metadata": {},
   "outputs": [
    {
     "name": "stdout",
     "output_type": "stream",
     "text": [
      "Enter a number : 10000\n",
      "153\n",
      "370\n",
      "371\n",
      "407\n",
      "1634\n",
      "8208\n",
      "9474\n"
     ]
    }
   ],
   "source": [
    "term = int(input('Enter a number : '))\n",
    "\n",
    "for i in range(100,term):\n",
    "    Sum = 0\n",
    "    length = len(str(i))\n",
    "\n",
    "    temp = i\n",
    "\n",
    "    while temp>0:\n",
    "        last = temp%10 \n",
    "        Sum += last**length\n",
    "        temp//=10\n",
    "    \n",
    "    if i == Sum:\n",
    "        print(i)"
   ]
  },
  {
   "cell_type": "markdown",
   "id": "f87a635a",
   "metadata": {},
   "source": [
    "# 6 - sum of natural number upto number "
   ]
  },
  {
   "cell_type": "code",
   "execution_count": 54,
   "id": "737dd2da",
   "metadata": {},
   "outputs": [
    {
     "name": "stdout",
     "output_type": "stream",
     "text": [
      "Enter the positive number :16\n",
      "136\n"
     ]
    }
   ],
   "source": [
    "num = int(input(\"Enter the positive number :\"))\n",
    "\n",
    "print(int(num*(num+1)/2))\n",
    "\n",
    "# if num < 0:\n",
    "#     print(\"Enter a positive number\")\n",
    "# else:\n",
    "#     sum = 0\n",
    "#     while(num > 0):\n",
    "#         sum += num\n",
    "#         num -= 1\n",
    "#     print(\"The sum is \",sum)"
   ]
  },
  {
   "cell_type": "code",
   "execution_count": null,
   "id": "6c3d97b3",
   "metadata": {},
   "outputs": [],
   "source": []
  }
 ],
 "metadata": {
  "kernelspec": {
   "display_name": "Python 3 (ipykernel)",
   "language": "python",
   "name": "python3"
  },
  "language_info": {
   "codemirror_mode": {
    "name": "ipython",
    "version": 3
   },
   "file_extension": ".py",
   "mimetype": "text/x-python",
   "name": "python",
   "nbconvert_exporter": "python",
   "pygments_lexer": "ipython3",
   "version": "3.9.7"
  }
 },
 "nbformat": 4,
 "nbformat_minor": 5
}
