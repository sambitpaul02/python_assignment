{
 "cells": [
  {
   "cell_type": "code",
   "execution_count": 1,
   "id": "2c36c819",
   "metadata": {},
   "outputs": [
    {
     "name": "stdout",
     "output_type": "stream",
     "text": [
      "hello python\n"
     ]
    }
   ],
   "source": [
    "#1\n",
    "\n",
    "print('hello python')"
   ]
  },
  {
   "cell_type": "code",
   "execution_count": 4,
   "id": "cc155e57",
   "metadata": {},
   "outputs": [
    {
     "name": "stdout",
     "output_type": "stream",
     "text": [
      "put the first number20\n",
      "put the second number30\n",
      "addition : 50\n",
      "division : 0.6666666666666666\n"
     ]
    }
   ],
   "source": [
    "#2\n",
    "\n",
    "a = int(input(\"put the first number\"))\n",
    "b = int(input(\"put the second number\"))\n",
    "\n",
    "addition = a+b\n",
    "division = a/b\n",
    "\n",
    "print(\"addition :\",addition)\n",
    "print(\"division :\",division)"
   ]
  },
  {
   "cell_type": "code",
   "execution_count": 18,
   "id": "92736a14",
   "metadata": {},
   "outputs": [
    {
     "name": "stdout",
     "output_type": "stream",
     "text": [
      "Enter the first side of a triangle 5\n",
      "Enter the second side of a triangle 6\n",
      "Enter the third side of a triangle 7\n",
      " The Area of a Triangle is 14.70\n"
     ]
    }
   ],
   "source": [
    "#3\n",
    "\n",
    "a = float(input(\"Enter the first side of a triangle \"))\n",
    "b = float(input(\"Enter the second side of a triangle \"))\n",
    "c = float(input(\"Enter the third side of a triangle \"))\n",
    "\n",
    "s = (a+b+c)/2\n",
    "\n",
    "area = (s*(s-a)*(s-b)*(s-c)) ** 0.5\n",
    "\n",
    "print(\" The Area of a Triangle is %0.2f\" %area)\n",
    "\n"
   ]
  },
  {
   "cell_type": "code",
   "execution_count": 24,
   "id": "bbd0802f",
   "metadata": {},
   "outputs": [
    {
     "name": "stdout",
     "output_type": "stream",
     "text": [
      "Enter the first value 10\n",
      "Enter the second value 20\n",
      "The value of a after swapping:  20\n",
      "The value of b after swapping:  10\n"
     ]
    }
   ],
   "source": [
    "#4\n",
    "\n",
    "a = int(input(\"Enter the first value \"))\n",
    "b = int(input(\"Enter the second value \"))\n",
    "\n",
    "temp = a \n",
    "a = b \n",
    "b = temp\n",
    "\n",
    "print('The value of a after swapping: ',a)\n",
    "print('The value of b after swapping: ',b)\n"
   ]
  },
  {
   "cell_type": "code",
   "execution_count": 29,
   "id": "bd42b6d3",
   "metadata": {},
   "outputs": [
    {
     "name": "stdout",
     "output_type": "stream",
     "text": [
      "58\n"
     ]
    }
   ],
   "source": [
    "#5\n",
    "\n",
    "import random \n",
    "\n",
    "a = random.randint(0,100)\n",
    "print(a)"
   ]
  },
  {
   "cell_type": "code",
   "execution_count": null,
   "id": "b785e53f",
   "metadata": {},
   "outputs": [],
   "source": []
  }
 ],
 "metadata": {
  "kernelspec": {
   "display_name": "Python 3 (ipykernel)",
   "language": "python",
   "name": "python3"
  },
  "language_info": {
   "codemirror_mode": {
    "name": "ipython",
    "version": 3
   },
   "file_extension": ".py",
   "mimetype": "text/x-python",
   "name": "python",
   "nbconvert_exporter": "python",
   "pygments_lexer": "ipython3",
   "version": "3.9.7"
  }
 },
 "nbformat": 4,
 "nbformat_minor": 5
}
