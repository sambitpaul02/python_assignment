{
 "cells": [
  {
   "cell_type": "markdown",
   "id": "7471f45c",
   "metadata": {},
   "source": [
    "# 1 - Find LCM"
   ]
  },
  {
   "cell_type": "code",
   "execution_count": 16,
   "id": "0785b2ce",
   "metadata": {},
   "outputs": [
    {
     "name": "stdout",
     "output_type": "stream",
     "text": [
      "Enter the first number : 10\n",
      "Enter the second number : 15\n",
      "LCM of the given numbers is  30\n"
     ]
    }
   ],
   "source": [
    "a = int(input(\"Enter the first number : \"))\n",
    "b = int(input(\"Enter the second number : \"))\n",
    "\n",
    "for i in range(2,a):\n",
    "    if a*i%b==0:\n",
    "        print(\"LCM of the given numbers is \",a*i)\n",
    "        break"
   ]
  },
  {
   "cell_type": "markdown",
   "id": "c91de6b8",
   "metadata": {},
   "source": [
    "# 2 - Find HCF"
   ]
  },
  {
   "cell_type": "code",
   "execution_count": 17,
   "id": "7bcbe299",
   "metadata": {},
   "outputs": [
    {
     "name": "stdout",
     "output_type": "stream",
     "text": [
      "Enter the first number : 104\n",
      "Enter the second number : 144\n",
      "HCF of the given numbers is  8\n"
     ]
    }
   ],
   "source": [
    "a = int(input(\"Enter the first number : \"))\n",
    "b = int(input(\"Enter the second number : \"))\n",
    "\n",
    "for i in range(2,a):\n",
    "    if a*i%b==0:\n",
    "        print(\"HCF of the given numbers is \",int((a*b)/(a*i)))\n",
    "        break"
   ]
  },
  {
   "cell_type": "markdown",
   "id": "f8db79ef",
   "metadata": {},
   "source": [
    "# 3 - Decimal to Binary ,Octal and Hexadecimal "
   ]
  },
  {
   "cell_type": "code",
   "execution_count": 40,
   "id": "e3c75498",
   "metadata": {},
   "outputs": [
    {
     "name": "stdout",
     "output_type": "stream",
     "text": [
      "Enter the number : 230\n",
      "The decimal value of 230 is:\n",
      "11100110 in binary.\n",
      "346 in octal.\n",
      "e6 in hexadecimal.\n"
     ]
    }
   ],
   "source": [
    "dec = int(input(\"Enter the number : \"))\n",
    "\n",
    "binary = bin(dec).split('0b')[1]\n",
    "octal = oct(dec).split('0o')[1]\n",
    "hexadecimal = hex(dec).split('0x')[1]\n",
    "\n",
    "print(\"The decimal value of\", dec, \"is:\")\n",
    "print(binary, \"in binary.\")\n",
    "print(octal, \"in octal.\")\n",
    "print(hexadecimal, \"in hexadecimal.\")"
   ]
  },
  {
   "cell_type": "markdown",
   "id": "54ad0b8e",
   "metadata": {},
   "source": [
    "# 4 - ASCII  value of a given character"
   ]
  },
  {
   "cell_type": "code",
   "execution_count": 46,
   "id": "d56beaa5",
   "metadata": {},
   "outputs": [
    {
     "name": "stdout",
     "output_type": "stream",
     "text": [
      "Enter a characterp\n",
      "The ASCII value of 'p' is 112\n"
     ]
    }
   ],
   "source": [
    "a = input(\"Enter a character\")\n",
    "print(\"The ASCII value of '\" + a + \"' is\", ord(a))"
   ]
  },
  {
   "cell_type": "markdown",
   "id": "f3cd3bfc",
   "metadata": {},
   "source": [
    "# 5 - Basic Calculator"
   ]
  },
  {
   "cell_type": "code",
   "execution_count": 50,
   "id": "e985e620",
   "metadata": {},
   "outputs": [
    {
     "name": "stdout",
     "output_type": "stream",
     "text": [
      "Enter first number : 10\n",
      "Enter second number : 12\n",
      "Which operation you want ?   '+' , '-' , '*' , '/'  -->  +\n",
      "answer =  22\n"
     ]
    }
   ],
   "source": [
    "a = int(input(\"Enter first number : \"))\n",
    "b = int(input(\"Enter second number : \"))\n",
    "opr = input(\"Which operation you want ?   '+' , '-' , '*' , '/'  -->  \")\n",
    "\n",
    "if opr=='+':\n",
    "    print(\"answer = \",a+b)\n",
    "if opr=='-':\n",
    "    print(\"answer = \",a-b)\n",
    "if opr=='*':\n",
    "    print(\"answer = \",a*b)\n",
    "if opr=='/':\n",
    "    print(\"answer = \",a/b)"
   ]
  },
  {
   "cell_type": "code",
   "execution_count": null,
   "id": "6d0d2ca6",
   "metadata": {},
   "outputs": [],
   "source": []
  }
 ],
 "metadata": {
  "kernelspec": {
   "display_name": "Python 3 (ipykernel)",
   "language": "python",
   "name": "python3"
  },
  "language_info": {
   "codemirror_mode": {
    "name": "ipython",
    "version": 3
   },
   "file_extension": ".py",
   "mimetype": "text/x-python",
   "name": "python",
   "nbconvert_exporter": "python",
   "pygments_lexer": "ipython3",
   "version": "3.9.7"
  }
 },
 "nbformat": 4,
 "nbformat_minor": 5
}
