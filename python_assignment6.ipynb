{
 "cells": [
  {
   "cell_type": "markdown",
   "id": "e82d5fae",
   "metadata": {},
   "source": [
    "# 1 - Fibonacci sequence using recursion"
   ]
  },
  {
   "cell_type": "code",
   "execution_count": 2,
   "id": "3cd5bbe4",
   "metadata": {},
   "outputs": [
    {
     "name": "stdout",
     "output_type": "stream",
     "text": [
      "How many terms you want ? 7\n",
      "0\n",
      "1\n",
      "1\n",
      "2\n",
      "3\n",
      "5\n",
      "8\n"
     ]
    }
   ],
   "source": [
    "terms = int(input(\"How many terms you want ? \"))\n",
    "\n",
    "def fibo(a):\n",
    "    if a<=1:\n",
    "        return a\n",
    "    return fibo(a-1)+fibo(a-2)\n",
    "\n",
    "for i in range(terms):\n",
    "    print(fibo(i))"
   ]
  },
  {
   "cell_type": "markdown",
   "id": "1e4b3cc2",
   "metadata": {},
   "source": [
    "# 2 - Factorial using recursion"
   ]
  },
  {
   "cell_type": "code",
   "execution_count": 10,
   "id": "7d649e77",
   "metadata": {},
   "outputs": [
    {
     "name": "stdout",
     "output_type": "stream",
     "text": [
      "Enter a number : 0\n",
      "Factorial of 0 is 1\n"
     ]
    }
   ],
   "source": [
    "x = int(input(\"Enter a number : \"))\n",
    "\n",
    "def factorial(a):\n",
    "    if a<=1:\n",
    "        return 1\n",
    "    return a*factorial(a-1)\n",
    "print(\"Factorial of\",x,\"is\" ,factorial(x))"
   ]
  },
  {
   "cell_type": "markdown",
   "id": "425ca527",
   "metadata": {},
   "source": [
    "# 3 - Body Mass Index "
   ]
  },
  {
   "cell_type": "code",
   "execution_count": 11,
   "id": "b84b4cda",
   "metadata": {},
   "outputs": [
    {
     "name": "stdout",
     "output_type": "stream",
     "text": [
      "Enter your weight in kg : 65\n",
      "Enter your height in m : 2\n",
      "Your BMI is  16.25\n"
     ]
    }
   ],
   "source": [
    "w = int(input(\"Enter your weight in kg : \"))\n",
    "h = int(input(\"Enter your height in m : \"))\n",
    "\n",
    "print(\"Your BMI is \",(w/h**2))\n"
   ]
  },
  {
   "cell_type": "markdown",
   "id": "1b3ad690",
   "metadata": {},
   "source": [
    "# 4 - Natural logarithm of any number"
   ]
  },
  {
   "cell_type": "code",
   "execution_count": 13,
   "id": "1c93d220",
   "metadata": {},
   "outputs": [
    {
     "name": "stdout",
     "output_type": "stream",
     "text": [
      "Enter a number : 45\n",
      "The natural logarithm of 45 is 3.8066624897703196\n"
     ]
    }
   ],
   "source": [
    "import math\n",
    "\n",
    "x = int(input(\"Enter a number : \"))\n",
    "log = math.log(x)\n",
    "\n",
    "print(f\"The natural logarithm of {x} is {log}\")"
   ]
  },
  {
   "cell_type": "markdown",
   "id": "4b59c9c8",
   "metadata": {},
   "source": [
    "# 5 - cube sum of first n natural numbers"
   ]
  },
  {
   "cell_type": "code",
   "execution_count": 21,
   "id": "d010bd95",
   "metadata": {},
   "outputs": [
    {
     "name": "stdout",
     "output_type": "stream",
     "text": [
      "Enter the number: 4\n",
      "The cube sum of first 4 numbers is 100\n"
     ]
    }
   ],
   "source": [
    "terms = int(input(\"Enter the number: \"))\n",
    "\n",
    "def cs(a):\n",
    "    if a<=1:\n",
    "        return 1\n",
    "    return a**3+cs(a-1)\n",
    "\n",
    "print(f\"The cube sum of first {terms} numbers is {cs(terms)}\")"
   ]
  },
  {
   "cell_type": "code",
   "execution_count": null,
   "id": "adeeef87",
   "metadata": {},
   "outputs": [],
   "source": []
  }
 ],
 "metadata": {
  "kernelspec": {
   "display_name": "Python 3 (ipykernel)",
   "language": "python",
   "name": "python3"
  },
  "language_info": {
   "codemirror_mode": {
    "name": "ipython",
    "version": 3
   },
   "file_extension": ".py",
   "mimetype": "text/x-python",
   "name": "python",
   "nbconvert_exporter": "python",
   "pygments_lexer": "ipython3",
   "version": "3.9.7"
  }
 },
 "nbformat": 4,
 "nbformat_minor": 5
}
